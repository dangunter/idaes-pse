{
 "cells": [
  {
   "cell_type": "markdown",
   "id": "b1bc6a1d",
   "metadata": {},
   "source": [
    "# PySMO Surrogate save/load example"
   ]
  },
  {
   "cell_type": "markdown",
   "id": "96d2d830",
   "metadata": {},
   "source": [
    "## Imports and logging"
   ]
  },
  {
   "cell_type": "code",
   "execution_count": 1,
   "id": "e9faf326",
   "metadata": {},
   "outputs": [],
   "source": [
    "import logging\n",
    "logging.getLogger(\"idaes\").setLevel(logging.ERROR)"
   ]
  },
  {
   "cell_type": "code",
   "execution_count": 2,
   "id": "a6f0ab8a",
   "metadata": {},
   "outputs": [],
   "source": [
    "import pysmo_surrogate as ps\n",
    "import json\n",
    "from pandas import DataFrame\n",
    "from sys import stdout\n",
    "from io import StringIO\n",
    "import pandas as pd"
   ]
  },
  {
   "cell_type": "markdown",
   "id": "ee8d5bd3",
   "metadata": {},
   "source": [
    "## Input data and parameters"
   ]
  },
  {
   "cell_type": "code",
   "execution_count": 3,
   "id": "eaf3957e",
   "metadata": {},
   "outputs": [],
   "source": [
    "training_data = DataFrame({'x1': [1, 2, 3, 4, 5], 'x2': [5, 6, 7, 8, 9], 'z1': [10, 20, 30, 40, 50], 'z2': [6, 8, 10, 12, 14]})\n",
    "validation_data = DataFrame({'x1': [1, 2, 3, 4], 'x2': [5, 6, 7, 8], 'z1': [10, 20, 30, 40], 'z2': [6, 8, 10, 12]})\n",
    "input_labels = [\"x1\", \"x2\"]\n",
    "output_labels = [\"z1\", \"z2\"]\n",
    "bounds = {\"x1\": (0, 5), \"x2\": (0, 10)}"
   ]
  },
  {
   "cell_type": "markdown",
   "id": "cd18845a",
   "metadata": {},
   "source": [
    "## Create surrogate trainer"
   ]
  },
  {
   "cell_type": "code",
   "execution_count": 4,
   "id": "f04b8160",
   "metadata": {},
   "outputs": [
    {
     "name": "stdout",
     "output_type": "stream",
     "text": [
      "2022-02-25 15:29:14 [WARNING] idaes.surrogate.pysmo.polynomial_regression: Warning: pysmo_poly_z1.pickle already exists; results will be saved to pysmo_poly_z1_v_02-25-22_152914.pickle\n",
      "2022-02-25 15:29:14 [INFO] idaes.surrogate.pysmo.polynomial_regression: No iterations will be run.\n",
      "2022-02-25 15:29:14 [INFO] idaes.surrogate.pysmo.polynomial_regression: Parameter estimation method: pyomo\n",
      "2022-02-25 15:29:14 [INFO] idaes.surrogate.pysmo.polynomial_regression: max_fraction_training_samples set at 0.5\n",
      "2022-02-25 15:29:14 [INFO] idaes.surrogate.pysmo.polynomial_regression: Number of adaptive samples (no_adaptive_samples) set at 4\n",
      "2022-02-25 15:29:14 [INFO] idaes.surrogate.pysmo.polynomial_regression: Maximum number of iterations (Max_iter) set at: 0\n",
      "2022-02-25 15:29:14 [INFO] idaes.surrogate.pysmo.polynomial_regression: Initial surrogate model is of order 1 with a cross-val error of 0.000000\n",
      "2022-02-25 15:29:14 [INFO] idaes.surrogate.pysmo.polynomial_regression: Initial Regression Model Performance => Order: 1  / MAE: 4.973799150320702e-15 / MSE:4.2914033244023047e-29 / R^2: 1.0 / Adjusted R^2: 1.0\n",
      "2022-02-25 15:29:14 [INFO] idaes.surrogate.pysmo.polynomial_regression: Polynomial regression generates a good surrogate model for the input data.\n",
      "2022-02-25 15:29:14 [INFO] idaes.surrogate.pysmo.polynomial_regression: ------------------------------------------------------------\n",
      "2022-02-25 15:29:14 [INFO] idaes.surrogate.pysmo.polynomial_regression: The final coefficients of the regression terms are:\n",
      "2022-02-25 15:29:14 [INFO] idaes.surrogate.pysmo.polynomial_regression: k               |-8.9\n",
      "2022-02-25 15:29:14 [INFO] idaes.surrogate.pysmo.polynomial_regression: (x_1)^1     |7.775\n",
      "2022-02-25 15:29:14 [INFO] idaes.surrogate.pysmo.polynomial_regression: (x_2)^1     |2.225\n",
      "2022-02-25 15:29:14 [INFO] idaes.surrogate.pysmo.polynomial_regression: \\Results saved in  pysmo_poly_z1_v_02-25-22_152914.pickle\n",
      "2022-02-25 15:29:14 [INFO] idaes.pysmo_surrogate: Model for output z1 trained successfully\n",
      "2022-02-25 15:29:14 [WARNING] idaes.surrogate.pysmo.polynomial_regression: Warning: pysmo_poly_z2.pickle already exists; results will be saved to pysmo_poly_z2_v_02-25-22_152914.pickle\n",
      "2022-02-25 15:29:14 [INFO] idaes.surrogate.pysmo.polynomial_regression: No iterations will be run.\n",
      "2022-02-25 15:29:14 [INFO] idaes.surrogate.pysmo.polynomial_regression: Parameter estimation method: pyomo\n",
      "2022-02-25 15:29:14 [INFO] idaes.surrogate.pysmo.polynomial_regression: max_fraction_training_samples set at 0.5\n",
      "2022-02-25 15:29:14 [INFO] idaes.surrogate.pysmo.polynomial_regression: Number of adaptive samples (no_adaptive_samples) set at 4\n",
      "2022-02-25 15:29:14 [INFO] idaes.surrogate.pysmo.polynomial_regression: Maximum number of iterations (Max_iter) set at: 0\n",
      "2022-02-25 15:29:15 [INFO] idaes.surrogate.pysmo.polynomial_regression: Initial surrogate model is of order 1 with a cross-val error of 0.000000\n",
      "2022-02-25 15:29:15 [INFO] idaes.surrogate.pysmo.polynomial_regression: Initial Regression Model Performance => Order: 1  / MAE: 1.7053025658242407e-14 / MSE:4.846761401677897e-28 / R^2: 1.0 / Adjusted R^2: 1.0\n",
      "2022-02-25 15:29:15 [INFO] idaes.surrogate.pysmo.polynomial_regression: Polynomial regression generates a good surrogate model for the input data.\n",
      "2022-02-25 15:29:15 [INFO] idaes.surrogate.pysmo.polynomial_regression: ------------------------------------------------------------\n",
      "2022-02-25 15:29:15 [INFO] idaes.surrogate.pysmo.polynomial_regression: The final coefficients of the regression terms are:\n",
      "2022-02-25 15:29:15 [INFO] idaes.surrogate.pysmo.polynomial_regression: k               |-99.9\n",
      "2022-02-25 15:29:15 [INFO] idaes.surrogate.pysmo.polynomial_regression: (x_1)^1     |-23.975\n",
      "2022-02-25 15:29:15 [INFO] idaes.surrogate.pysmo.polynomial_regression: (x_2)^1     |25.975\n",
      "2022-02-25 15:29:15 [INFO] idaes.surrogate.pysmo.polynomial_regression: \\Results saved in  pysmo_poly_z2_v_02-25-22_152914.pickle\n",
      "2022-02-25 15:29:15 [INFO] idaes.pysmo_surrogate: Model for output z2 trained successfully\n"
     ]
    }
   ],
   "source": [
    "tr = ps.PysmoPolyTrainer(\n",
    "    input_labels=input_labels,\n",
    "    output_labels=output_labels,\n",
    "    input_bounds=bounds,\n",
    "    training_dataframe=training_data,\n",
    "    validation_dataframe=validation_data,\n",
    "    maximum_polynomial_order = 1, \n",
    "    multinomials=False,\n",
    "    number_of_crossvalidations=5,\n",
    "    solution_method='pyomo')\n",
    "\n",
    "# train the surrogate, which returns a TrainedSurrogate object\n",
    "ts = tr.train_surrogate()"
   ]
  },
  {
   "cell_type": "markdown",
   "id": "ecc9661f",
   "metadata": {},
   "source": [
    "## Create a surrogate from the TrainedSurrogate object and input data"
   ]
  },
  {
   "cell_type": "code",
   "execution_count": 5,
   "id": "4498b345",
   "metadata": {},
   "outputs": [],
   "source": [
    "s = ps.PysmoSurrogate(ts, input_labels, output_labels, input_bounds=bounds)"
   ]
  },
  {
   "cell_type": "markdown",
   "id": "ee63d7a1",
   "metadata": {},
   "source": [
    "## Save the trained surrogate (to an in-memory IO stream)"
   ]
  },
  {
   "cell_type": "code",
   "execution_count": 6,
   "id": "e680bc43",
   "metadata": {},
   "outputs": [],
   "source": [
    "strm = StringIO()\n",
    "s.save(strm)"
   ]
  },
  {
   "cell_type": "markdown",
   "id": "86d2503a",
   "metadata": {},
   "source": [
    "## Reload the trained surrogate"
   ]
  },
  {
   "cell_type": "code",
   "execution_count": 7,
   "id": "7cd75134",
   "metadata": {
    "scrolled": false
   },
   "outputs": [
    {
     "name": "stdout",
     "output_type": "stream",
     "text": [
      "2022-02-25 15:29:19 [INFO] idaes.pysmo_surrogate: Decode surrogate. type=poly\n",
      "2022-02-25 15:29:19 [INFO] idaes.surrogate.pysmo.polynomial_regression: The number of cross-validation cases (3) is used.\n",
      "2022-02-25 15:29:19 [INFO] idaes.surrogate.pysmo.polynomial_regression: The default training/cross-validation split of 0.75 is used.\n",
      "2022-02-25 15:29:19 [INFO] idaes.surrogate.pysmo.polynomial_regression: No iterations will be run.\n",
      "2022-02-25 15:29:19 [INFO] idaes.surrogate.pysmo.polynomial_regression: Default parameter estimation method is used.\n",
      "2022-02-25 15:29:19 [INFO] idaes.surrogate.pysmo.polynomial_regression: Parameter estimation method: pyomo\n",
      "2022-02-25 15:29:19 [INFO] idaes.surrogate.pysmo.polynomial_regression: The number of cross-validation cases (3) is used.\n",
      "2022-02-25 15:29:19 [INFO] idaes.surrogate.pysmo.polynomial_regression: The default training/cross-validation split of 0.75 is used.\n",
      "2022-02-25 15:29:19 [INFO] idaes.surrogate.pysmo.polynomial_regression: No iterations will be run.\n",
      "2022-02-25 15:29:19 [INFO] idaes.surrogate.pysmo.polynomial_regression: Default parameter estimation method is used.\n",
      "2022-02-25 15:29:19 [INFO] idaes.surrogate.pysmo.polynomial_regression: Parameter estimation method: pyomo\n"
     ]
    }
   ],
   "source": [
    "strm.seek(0)\n",
    "s2 = ps.PysmoSurrogate.load(strm)"
   ]
  },
  {
   "cell_type": "code",
   "execution_count": 8,
   "id": "f74c5d17",
   "metadata": {},
   "outputs": [
    {
     "data": {
      "text/html": [
       "<div>\n",
       "<style scoped>\n",
       "    .dataframe tbody tr th:only-of-type {\n",
       "        vertical-align: middle;\n",
       "    }\n",
       "\n",
       "    .dataframe tbody tr th {\n",
       "        vertical-align: top;\n",
       "    }\n",
       "\n",
       "    .dataframe thead th {\n",
       "        text-align: right;\n",
       "    }\n",
       "</style>\n",
       "<table border=\"1\" class=\"dataframe\">\n",
       "  <thead>\n",
       "    <tr style=\"text-align: right;\">\n",
       "      <th></th>\n",
       "      <th>z1</th>\n",
       "      <th>z2</th>\n",
       "    </tr>\n",
       "  </thead>\n",
       "  <tbody>\n",
       "    <tr>\n",
       "      <th>0</th>\n",
       "      <td>10.0</td>\n",
       "      <td>6.0</td>\n",
       "    </tr>\n",
       "    <tr>\n",
       "      <th>1</th>\n",
       "      <td>20.0</td>\n",
       "      <td>8.0</td>\n",
       "    </tr>\n",
       "    <tr>\n",
       "      <th>2</th>\n",
       "      <td>30.0</td>\n",
       "      <td>10.0</td>\n",
       "    </tr>\n",
       "    <tr>\n",
       "      <th>3</th>\n",
       "      <td>40.0</td>\n",
       "      <td>12.0</td>\n",
       "    </tr>\n",
       "  </tbody>\n",
       "</table>\n",
       "</div>"
      ],
      "text/plain": [
       "     z1    z2\n",
       "0  10.0   6.0\n",
       "1  20.0   8.0\n",
       "2  30.0  10.0\n",
       "3  40.0  12.0"
      ]
     },
     "execution_count": 8,
     "metadata": {},
     "output_type": "execute_result"
    }
   ],
   "source": [
    "s.evaluate_surrogate(validation_data[['x1', 'x2']])"
   ]
  },
  {
   "cell_type": "code",
   "execution_count": 9,
   "id": "c540e340",
   "metadata": {},
   "outputs": [
    {
     "data": {
      "text/html": [
       "<div>\n",
       "<style scoped>\n",
       "    .dataframe tbody tr th:only-of-type {\n",
       "        vertical-align: middle;\n",
       "    }\n",
       "\n",
       "    .dataframe tbody tr th {\n",
       "        vertical-align: top;\n",
       "    }\n",
       "\n",
       "    .dataframe thead th {\n",
       "        text-align: right;\n",
       "    }\n",
       "</style>\n",
       "<table border=\"1\" class=\"dataframe\">\n",
       "  <thead>\n",
       "    <tr style=\"text-align: right;\">\n",
       "      <th></th>\n",
       "      <th>z1</th>\n",
       "      <th>z2</th>\n",
       "    </tr>\n",
       "  </thead>\n",
       "  <tbody>\n",
       "    <tr>\n",
       "      <th>0</th>\n",
       "      <td>10.0</td>\n",
       "      <td>6.0</td>\n",
       "    </tr>\n",
       "    <tr>\n",
       "      <th>1</th>\n",
       "      <td>20.0</td>\n",
       "      <td>8.0</td>\n",
       "    </tr>\n",
       "    <tr>\n",
       "      <th>2</th>\n",
       "      <td>30.0</td>\n",
       "      <td>10.0</td>\n",
       "    </tr>\n",
       "    <tr>\n",
       "      <th>3</th>\n",
       "      <td>40.0</td>\n",
       "      <td>12.0</td>\n",
       "    </tr>\n",
       "  </tbody>\n",
       "</table>\n",
       "</div>"
      ],
      "text/plain": [
       "     z1    z2\n",
       "0  10.0   6.0\n",
       "1  20.0   8.0\n",
       "2  30.0  10.0\n",
       "3  40.0  12.0"
      ]
     },
     "execution_count": 9,
     "metadata": {},
     "output_type": "execute_result"
    }
   ],
   "source": [
    "s2.evaluate_surrogate(validation_data[['x1', 'x2']])"
   ]
  },
  {
   "cell_type": "code",
   "execution_count": null,
   "id": "d1c4c394",
   "metadata": {},
   "outputs": [],
   "source": []
  }
 ],
 "metadata": {
  "kernelspec": {
   "display_name": "Python 3 (ipykernel)",
   "language": "python",
   "name": "python3"
  },
  "language_info": {
   "codemirror_mode": {
    "name": "ipython",
    "version": 3
   },
   "file_extension": ".py",
   "mimetype": "text/x-python",
   "name": "python",
   "nbconvert_exporter": "python",
   "pygments_lexer": "ipython3",
   "version": "3.9.7"
  }
 },
 "nbformat": 4,
 "nbformat_minor": 5
}
