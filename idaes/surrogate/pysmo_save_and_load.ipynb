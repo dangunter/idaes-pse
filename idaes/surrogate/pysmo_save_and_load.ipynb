{
 "cells": [
  {
   "cell_type": "markdown",
   "id": "7a1b87d3",
   "metadata": {},
   "source": [
    "# PySMO Surrogate save/load example"
   ]
  },
  {
   "cell_type": "markdown",
   "id": "13a89d62",
   "metadata": {},
   "source": [
    "## Imports and logging"
   ]
  },
  {
   "cell_type": "code",
   "execution_count": 8,
   "id": "5c0dc963",
   "metadata": {},
   "outputs": [],
   "source": [
    "import logging\n",
    "logging.getLogger(\"idaes\").setLevel(logging.ERROR)"
   ]
  },
  {
   "cell_type": "code",
   "execution_count": null,
   "id": "375ca937",
   "metadata": {},
   "outputs": [],
   "source": [
    "import pysmo_surrogate as ps\n",
    "import json\n",
    "from pandas import DataFrame\n",
    "from sys import stdout\n",
    "from io import StringIO\n",
    "import pandas as pd"
   ]
  },
  {
   "cell_type": "markdown",
   "id": "8a9365c1",
   "metadata": {},
   "source": [
    "## Input data and parameters"
   ]
  },
  {
   "cell_type": "code",
   "execution_count": null,
   "id": "224eaf90",
   "metadata": {},
   "outputs": [],
   "source": [
    "training_data = DataFrame({'x1': [1, 2, 3, 4, 5], 'x2': [5, 6, 7, 8, 9], 'z1': [10, 20, 30, 40, 50], 'z2': [6, 8, 10, 12, 14]})\n",
    "validation_data = DataFrame({'x1': [1, 2, 3, 4], 'x2': [5, 6, 7, 8], 'z1': [10, 20, 30, 40], 'z2': [6, 8, 10, 12]})\n",
    "input_labels = [\"x1\", \"x2\"]\n",
    "output_labels = [\"z1\", \"z2\"]\n",
    "bounds = {\"x1\": (0, 5), \"x2\": (0, 10)}"
   ]
  },
  {
   "cell_type": "markdown",
   "id": "28b0a59d",
   "metadata": {},
   "source": [
    "## Create surrogate trainer"
   ]
  },
  {
   "cell_type": "code",
   "execution_count": 5,
   "id": "6555c632",
   "metadata": {},
   "outputs": [],
   "source": [
    "tr = ps.PysmoPolyTrainer(\n",
    "    input_labels=input_labels,\n",
    "    output_labels=output_labels,\n",
    "    input_bounds=bounds,\n",
    "    training_dataframe=training_data,\n",
    "    validation_dataframe=validation_data,\n",
    "    maximum_polynomial_order = 1, \n",
    "    multinomials=False,\n",
    "    number_of_crossvalidations=5,\n",
    "    solution_method='pyomo')\n",
    "\n",
    "# train the surrogate, which returns a TrainedSurrogate object\n",
    "ts = tr.train_surrogate()"
   ]
  },
  {
   "cell_type": "markdown",
   "id": "591bf2f2",
   "metadata": {},
   "source": [
    "## Create a surrogate from the TrainedSurrogate object and input data"
   ]
  },
  {
   "cell_type": "code",
   "execution_count": null,
   "id": "c8de4649",
   "metadata": {},
   "outputs": [],
   "source": [
    "s = ps.PysmoSurrogate(ts, input_labels, output_labels, input_bounds=bounds)"
   ]
  },
  {
   "cell_type": "markdown",
   "id": "ad93d625",
   "metadata": {},
   "source": [
    "## Save the trained surrogate (to an in-memory IO stream)"
   ]
  },
  {
   "cell_type": "code",
   "execution_count": null,
   "id": "4f5c6888",
   "metadata": {},
   "outputs": [],
   "source": [
    "strm = StringIO()\n",
    "s.save(strm)"
   ]
  },
  {
   "cell_type": "markdown",
   "id": "73b985d0",
   "metadata": {},
   "source": [
    "## Reload the trained surrogate"
   ]
  },
  {
   "cell_type": "code",
   "execution_count": 6,
   "id": "45881ce2",
   "metadata": {
    "scrolled": false
   },
   "outputs": [],
   "source": [
    "strm.seek(0)\n",
    "s2 = ps.PysmoSurrogate.load(strm)"
   ]
  }
 ],
 "metadata": {
  "kernelspec": {
   "display_name": "Python 3 (ipykernel)",
   "language": "python",
   "name": "python3"
  },
  "language_info": {
   "codemirror_mode": {
    "name": "ipython",
    "version": 3
   },
   "file_extension": ".py",
   "mimetype": "text/x-python",
   "name": "python",
   "nbconvert_exporter": "python",
   "pygments_lexer": "ipython3",
   "version": "3.9.7"
  }
 },
 "nbformat": 4,
 "nbformat_minor": 5
}
